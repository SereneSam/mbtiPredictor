{
  "nbformat": 4,
  "nbformat_minor": 0,
  "metadata": {
    "colab": {
      "provenance": [],
      "gpuType": "T4"
    },
    "kernelspec": {
      "name": "python3",
      "display_name": "Python 3"
    },
    "language_info": {
      "name": "python"
    },
    "accelerator": "GPU"
  },
  "cells": [
    {
      "cell_type": "code",
      "execution_count": 53,
      "metadata": {
        "colab": {
          "base_uri": "https://localhost:8080/"
        },
        "id": "D_F3hDeH6ymG",
        "outputId": "49f6aaac-1d2f-4e4a-b05f-b819c50e611b"
      },
      "outputs": [
        {
          "output_type": "stream",
          "name": "stdout",
          "text": [
            "      type                                              post1  \\\n",
            "0     INFP  'I used to play a bit of Skyrim (i found it ap...   \n",
            "1     ENFP  'Where would you live? Canada/US, somewhere wi...   \n",
            "2     INTP  'I'm an INTP who knows an ISFJ and an ESFJ. I ...   \n",
            "3     INFJ  'Some people need more, others need less. But ...   \n",
            "4     INTP  'It would be funny to Ask them,What is the dif...   \n",
            "...    ...                                                ...   \n",
            "7673  ISTP  'This happens to me! It usually happens when I...   \n",
            "7674  ENTP  'My boss was telling me he didn't know his MBT...   \n",
            "7675  ENFP  'Let me give what advice I have, based on thin...   \n",
            "7676  INFJ  'First of all, I love this thread! Thanks!  I'...   \n",
            "7677  INFJ  I adore them!!! But sometimes I can be an unhe...   \n",
            "\n",
            "                                                  post2  \\\n",
            "0     Hello,  I am a former member of PC. I decided ...   \n",
            "1     I'm passively attracted to certain attributes ...   \n",
            "2                                         cheeky nandos   \n",
            "3                                          :sun-smiley:   \n",
            "4     I think the first one might have to do with ac...   \n",
            "...                                                 ...   \n",
            "7673  How funny, I've often been criticized for bein...   \n",
            "7674  Yes. Completely. Right at the end of my Senior...   \n",
            "7675  my quotes I live by:  Death before dishonor  D...   \n",
            "7676  Also, Britain really has a comedy goldmine.  h...   \n",
            "7677  thanks everyone, your perspectives are all VER...   \n",
            "\n",
            "                                                  post3  \\\n",
            "0     sincere sensations have left my body to aid ot...   \n",
            "1     I can be both impatient and stubborn which are...   \n",
            "2                                 I love Paula Polestar   \n",
            "3     A lot of problems can be solved, if you proper...   \n",
            "4     Absolutely.I wish I could do maths and other s...   \n",
            "...                                                 ...   \n",
            "7673  Man, lunchtimes at my work can be torturous so...   \n",
            "7674  Two of the girls mentioned were peaceful frien...   \n",
            "7675  I'm glad. Your experience with a dysfunctional...   \n",
            "7676  I don't always agree with my favourite comedia...   \n",
            "7677  I've always thought I was pretty good at under...   \n",
            "\n",
            "                                                  post4  \\\n",
            "0     i've been told i look like jackson rathbone (t...   \n",
            "1     You're so cute Wait... you're not on drugs? Ca...   \n",
            "2     I'm pretty thin, but not underweight. My weigh...   \n",
            "3                                                :hugs:   \n",
            "4     I agree with Chucky.I contact people if I have...   \n",
            "...                                                 ...   \n",
            "7673  Hey bro,   The problem is not so much with oth...   \n",
            "7674  Is this because they're mistyped or overrepres...   \n",
            "7675  There definitely seems to be no real correlati...   \n",
            "7676  There might already be a thread out there abou...   \n",
            "7677  I think, as long as there is hope I am fine. W...   \n",
            "\n",
            "                                                  post5  \\\n",
            "0     this one is of me killing myself slowly with a...   \n",
            "1     I want to console and always be there for a gu...   \n",
            "2     How much wood does a woodchuck chuck if a wood...   \n",
            "3     Caffeinated and Optimistic. :smileys-sunbathin...   \n",
            "4     https://www.youtube.com/watch?v=e72tG80LmsU I ...   \n",
            "...                                                 ...   \n",
            "7673  Curse Hawking,   These are couple questions I ...   \n",
            "7674  Post to interview: Cindy Gallop, Founder & CEO...   \n",
            "7675  I ran into my dream girl when I was training f...   \n",
            "7676        https://www.youtube.com/watch?v=7zaYkdHyIuQ   \n",
            "7677  I kind of wish i knew what kind of energy I gi...   \n",
            "\n",
            "                                                  post6  \\\n",
            "0     the video is me and my band (i'm the singer cl...   \n",
            "1     Never posted in the ENFP section before since ...   \n",
            "2                                     I'm never lonely.   \n",
            "3     473746  The process is very relaxing, and the ...   \n",
            "4     https://www.youtube.com/watch?v=myc7eHGg5y4&fe...   \n",
            "...                                                 ...   \n",
            "7673  Dear fellow ISTPs.  I need your input on the q...   \n",
            "7674                                               Entj   \n",
            "7675  Breaking this into a new post:  And another th...   \n",
            "7676  Some digital surrealism by my favourite surrea...   \n",
            "7677  Wow! That is an excellent summary of INFJ-ness...   \n",
            "\n",
            "                                                  post7  \\\n",
            "0     sudden movement crackling noises camp fire  jo...   \n",
            "1     There must be something wrong with my personal...   \n",
            "2                     VIDEO - Furry Class Presentation    \n",
            "3     Sounds like my life growing up. Of course publ...   \n",
            "4     Ne.  https://www.youtube.com/watch?annotation_...   \n",
            "...                                                 ...   \n",
            "7673  I did shotokan karate.  As long as you know fe...   \n",
            "7674  I realize the INTJ/ENTP dynamic is by no means...   \n",
            "7675  500 days of summer is one of my favorite movie...   \n",
            "7676  I thought I'd share my playlist with you all. ...   \n",
            "7677  I've noticed this with a number of people arou...   \n",
            "\n",
            "                                                  post8  \\\n",
            "0     trapped in his own skin he opened his eyes to ...   \n",
            "1     Really got to start posting videos here!!     ...   \n",
            "2                     The Cringe Channel  Lord help us.   \n",
            "3                Everything is better if kept simple...   \n",
            "4     Your avatar.It looks as though the thing looks...   \n",
            "...                                                 ...   \n",
            "7673  I tend to get quite well with ENTP guys. Never...   \n",
            "7674  I realize the INTJ/ENTP dynamic is by no means...   \n",
            "7675  I'm in a long term relationship with another E...   \n",
            "7676  Hey INFJ's, you beautiful people that you are....   \n",
            "7677  thanks for the input everyone! I know I pay at...   \n",
            "\n",
            "                                                  post9  ...  \\\n",
            "0     when your cigarette smoke is inspiration enoug...  ...   \n",
            "1     Jeff Buckley! He was such a beautiful human be...  ...   \n",
            "2           https://www.youtube.com/watch?v=rkZ9sSgGPrs  ...   \n",
            "3     Fuck You. And fuck you. And fuck YOU. (Venting...  ...   \n",
            "4     Why would anyone want to fake their personalit...  ...   \n",
            "...                                                 ...  ...   \n",
            "7673  When people make all sorts of assumptions abou...  ...   \n",
            "7674  Any ENTPs out there worked for an ADD/ADHD bos...  ...   \n",
            "7675  Next/Possible Careers0   Network Administrator...  ...   \n",
            "7676  Really? I suppose a lot about my typing is con...  ...   \n",
            "7677  I don't have a very healthy relationship with ...  ...   \n",
            "\n",
            "                                                 post41  \\\n",
            "0     children redirect your eyes examine your lives...   \n",
            "1     Completely over-thinking life right now or am ...   \n",
            "2     XD im rAdomer than u!!!lol....this is a good t...   \n",
            "3     My answers are simple and to the point since I...   \n",
            "4                                                686154   \n",
            "...                                                 ...   \n",
            "7673  https://www.youtube.com/watch?v=Yb07Q4HsYb4 Tr...   \n",
            "7674  Schools. Universities, museums, academia, rese...   \n",
            "7675  awwwww, that is SO ENFP!   back at a previous ...   \n",
            "7676  I got 80%. I think it was kind of easy though,...   \n",
            "7677  :happy: thanks wonderful ENFP types! Hugs for ...   \n",
            "\n",
            "                                                 post42  \\\n",
            "0     i see it this way everything tends towards cha...   \n",
            "1     NONE OF MY LISTS ARE IN ANY ORDER  25 Songs yo...   \n",
            "2     I came from a religious family too, like many ...   \n",
            "3                               From brunette to blonde   \n",
            "4                                          686098686106   \n",
            "...                                                 ...   \n",
            "7673  Aldous Huxley wondered the same thing. This qu...   \n",
            "7674  Clever Waffle, thanks! Join the Fitocracy soun...   \n",
            "7675  Throw a shiny object in her general direction ...   \n",
            "7676  I think there is way too much negativity out t...   \n",
            "7677  I am about 90% certain a new friend of mine is...   \n",
            "\n",
            "                                                 post43  \\\n",
            "0     yes, i like going to social events to observe ...   \n",
            "1                                            ideal you    \n",
            "2                               Why are you drunk, sir?   \n",
            "3     Today like everyday, I struggle to find a bala...   \n",
            "4     It can be ASCII as well as Hexadecimal numbers...   \n",
            "...                                                 ...   \n",
            "7673  You know an ISTP is interested in you when s/h...   \n",
            "7674  ceembee, thanks!! I'll just say, sounds like w...   \n",
            "7675       I think your theory is debunked my friend XD   \n",
            "7676  ESTP's get stuff done and their whole energy i...   \n",
            "7677  Interesting - maybe this isn't a type thing th...   \n",
            "\n",
            "                                                 post44  \\\n",
            "0     lyrics that could be read off of paper like po...   \n",
            "1                                             real you    \n",
            "2     I'm so tired. Today during school I was buzzin...   \n",
            "3     Any threads out there for INFJ parents to vent...   \n",
            "4      Not yet decided on any of the existing theories.   \n",
            "...                                                 ...   \n",
            "7673  I've met plenty of SJ non-believers. I doubt r...   \n",
            "7674  My experience says, you would not. Feel free t...   \n",
            "7675  thank you for taking the time to try and help ...   \n",
            "7676  I recently read about the Se Grip and I defini...   \n",
            "7677  I really like the ENFP's I know. They are my f...   \n",
            "\n",
            "                                                 post45  \\\n",
            "0                                            ideal you    \n",
            "1                                          Introversion   \n",
            "2                         Holy shit the number of pages   \n",
            "3     Deep down we're all just wild animals that soc...   \n",
            "4     https://www.youtube.com/watch?v=J5iJSXaVvao  h...   \n",
            "...                                                 ...   \n",
            "7673  I don't think there is something wrong with be...   \n",
            "7674  Owl City!   http://www.youtube.com/watch?v=psu...   \n",
            "7675                Super stealth attack hugs!  *Hugs!*   \n",
            "7676  I don't really control my chameleonism... I'm ...   \n",
            "7677  Firstly, I really appreciate all of you who ha...   \n",
            "\n",
            "                                                 post46  \\\n",
            "0                                             real you    \n",
            "1                                                  0.43   \n",
            "2       I don't know how I would handle that situation.   \n",
            "3     I understand. As an INFJ you automatically con...   \n",
            "4     I thought  Artificial neural networks was the(...   \n",
            "...                                                 ...   \n",
            "7673  Thanks for your response, I'm really fascinate...   \n",
            "7674  In my education class we studied the layers of...   \n",
            "7675  *drives by in a rainbow colored ice cream truc...   \n",
            "7676  Yup, I have this too! My hearing is fine but I...   \n",
            "7677  an ENFP and I had a project to work on togethe...   \n",
            "\n",
            "                                                 post47  \\\n",
            "0                                          Introversion   \n",
            "1                                      73% Extroversion   \n",
            "2       I don't know how I would handle that situation.   \n",
            "3     Same here. I don't talk to either my mom or da...   \n",
            "4     I use Audacity.Which one(software) do you use ...   \n",
            "...                                                 ...   \n",
            "7673  Hi ENFPs,  Have you ever read Brave New World ...   \n",
            "7674  Thinking about it, mine would be programming o...   \n",
            "7675  Wait what? I'm not the only one who does this?...   \n",
            "7676  I'm scared of be unvalidated by them! My best ...   \n",
            "7677  I'm not saying it will be easy - seriously, so...   \n",
            "\n",
            "                                                 post48  \\\n",
            "0                                                   0.7   \n",
            "1                                                   0.7   \n",
            "2                                         Hmm....maybe.   \n",
            "3     So a non believer trolling about. A true INFJ ...   \n",
            "4     What software did you use for mixing?Btw You h...   \n",
            "...                                                 ...   \n",
            "7673  emadoe, I'm very sorry for what has happened t...   \n",
            "7674  teddy564339, collecting and stockpiling?sounds...   \n",
            "7675  I can usually be found in the library, in the ...   \n",
            "7676  Some of what you said does sound a lot like me...   \n",
            "7677  Let us know how this progresses. :) I believe ...   \n",
            "\n",
            "                                                 post49  \\\n",
            "0                                      73% Extroversion   \n",
            "1                                         40% Intuitive   \n",
            "2      Dogs are shit, cats are also shit, animals suck.   \n",
            "3     I think the easiest way to recognize it is whe...   \n",
            "4                                                683914   \n",
            "...                                                 ...   \n",
            "7673  This thread is several years old. Rising dead....   \n",
            "7674  Maura, I suppose that's fair. The way I see it...   \n",
            "7675  ENFP? Smooth? You crazy.  Maybe just because I...   \n",
            "7676  Puntje   Definitely confused. In every sense o...   \n",
            "7677  Totally have had a similar experience. I call ...   \n",
            "\n",
            "                                                 post50  \n",
            "0                                                  0.23  \n",
            "1                                                  0.73  \n",
            "2                                                376570  \n",
            "3                                                471162  \n",
            "4                                                683906  \n",
            "...                                                 ...  \n",
            "7673  Yyyeeah. I know.  At this stage of my life I a...  \n",
            "7674  Zerosum, you mean I can just go into a gym and...  \n",
            "7675  ZOMG HERCULES!  God I loved that one. I didn't...  \n",
            "7676  zosio913   This resonates a lot with me. I wou...  \n",
            "7677  Zster - your advice was particularly helpful!!...  \n",
            "\n",
            "[7678 rows x 51 columns]\n"
          ]
        }
      ],
      "source": [
        "import pandas as pd\n",
        "rawdf = pd.read_csv(\"mbti_cleaned.csv\", dtype=str)\n",
        "print(rawdf)"
      ]
    },
    {
      "cell_type": "code",
      "source": [
        "print(rawdf.shape)\n",
        "rawdf[rawdf.columns[0]]"
      ],
      "metadata": {
        "colab": {
          "base_uri": "https://localhost:8080/"
        },
        "id": "cqhnVO9XV8sD",
        "outputId": "8a30751b-6444-4d70-cf3b-93c34069dc66"
      },
      "execution_count": 54,
      "outputs": [
        {
          "output_type": "stream",
          "name": "stdout",
          "text": [
            "(7678, 51)\n"
          ]
        },
        {
          "output_type": "execute_result",
          "data": {
            "text/plain": [
              "0       INFP\n",
              "1       ENFP\n",
              "2       INTP\n",
              "3       INFJ\n",
              "4       INTP\n",
              "        ... \n",
              "7673    ISTP\n",
              "7674    ENTP\n",
              "7675    ENFP\n",
              "7676    INFJ\n",
              "7677    INFJ\n",
              "Name: type, Length: 7678, dtype: object"
            ]
          },
          "metadata": {},
          "execution_count": 54
        }
      ]
    },
    {
      "cell_type": "code",
      "source": [
        "indexed = pd.DataFrame()\n",
        "for i in range(1, rawdf.shape[1]):\n",
        "  #col = pd.concat((rawdf[rawdf.columns[0]], rawdf.rename(mapper={i:'post1'}, axis = 1)[rawdf.columns[i]]), axis = 1)\n",
        "  col = rawdf[rawdf.columns[0]] + \" |\" + rawdf[rawdf.columns[i]]\n",
        "  #print(col)\n",
        "  indexed = pd.concat((indexed, col), axis=0)\n",
        "print(indexed)"
      ],
      "metadata": {
        "colab": {
          "base_uri": "https://localhost:8080/"
        },
        "id": "grL3JPgqWn6B",
        "outputId": "cc1d2149-dea3-4ae8-d444-413a726a1b63"
      },
      "execution_count": 55,
      "outputs": [
        {
          "output_type": "stream",
          "name": "stdout",
          "text": [
            "                                                      0\n",
            "0     INFP |'I used to play a bit of Skyrim (i found...\n",
            "1     ENFP |'Where would you live? Canada/US, somewh...\n",
            "2     INTP |'I'm an INTP who knows an ISFJ and an ES...\n",
            "3     INFJ |'Some people need more, others need less...\n",
            "4     INTP |'It would be funny to Ask them,What is t...\n",
            "...                                                 ...\n",
            "7673  ISTP |Yyyeeah. I know.  At this stage of my li...\n",
            "7674  ENTP |Zerosum, you mean I can just go into a g...\n",
            "7675  ENFP |ZOMG HERCULES!  God I loved that one. I ...\n",
            "7676  INFJ |zosio913   This resonates a lot with me....\n",
            "7677  INFJ |Zster - your advice was particularly hel...\n",
            "\n",
            "[383900 rows x 1 columns]\n"
          ]
        }
      ]
    },
    {
      "cell_type": "code",
      "source": [
        "import numpy as np\n",
        "df = pd.DataFrame(np.row_stack([indexed.columns, indexed.values]), columns = [\"type\"])"
      ],
      "metadata": {
        "id": "DujbbYRSfj1g"
      },
      "execution_count": 56,
      "outputs": []
    },
    {
      "cell_type": "code",
      "source": [
        "df[[\"type\", \"post\"]] = df[\"type\"].str.split('|', expand=True)\n",
        "print(df)"
      ],
      "metadata": {
        "colab": {
          "base_uri": "https://localhost:8080/"
        },
        "id": "1_KLpVLXep0W",
        "outputId": "be61d09f-9df2-4909-ae98-ad4c62cafd29"
      },
      "execution_count": 57,
      "outputs": [
        {
          "output_type": "stream",
          "name": "stdout",
          "text": [
            "         type                                               post\n",
            "0         NaN                                                NaN\n",
            "1       INFP   'I used to play a bit of Skyrim (i found it ap...\n",
            "2       ENFP   'Where would you live? Canada/US, somewhere wi...\n",
            "3       INTP   'I'm an INTP who knows an ISFJ and an ESFJ. I ...\n",
            "4       INFJ   'Some people need more, others need less. But ...\n",
            "...       ...                                                ...\n",
            "383896  ISTP   Yyyeeah. I know.  At this stage of my life I a...\n",
            "383897  ENTP   Zerosum, you mean I can just go into a gym and...\n",
            "383898  ENFP   ZOMG HERCULES!  God I loved that one. I didn't...\n",
            "383899  INFJ   zosio913   This resonates a lot with me. I wou...\n",
            "383900  INFJ   Zster - your advice was particularly helpful!!...\n",
            "\n",
            "[383901 rows x 2 columns]\n"
          ]
        }
      ]
    },
    {
      "cell_type": "code",
      "source": [
        "df = df.drop(axis=0, index=0)\n",
        "print(df)"
      ],
      "metadata": {
        "colab": {
          "base_uri": "https://localhost:8080/"
        },
        "id": "a0oa8NJ9gOKy",
        "outputId": "9e097567-eb3b-44d9-a8c6-b48e80e7562d"
      },
      "execution_count": 58,
      "outputs": [
        {
          "output_type": "stream",
          "name": "stdout",
          "text": [
            "         type                                               post\n",
            "1       INFP   'I used to play a bit of Skyrim (i found it ap...\n",
            "2       ENFP   'Where would you live? Canada/US, somewhere wi...\n",
            "3       INTP   'I'm an INTP who knows an ISFJ and an ESFJ. I ...\n",
            "4       INFJ   'Some people need more, others need less. But ...\n",
            "5       INTP   'It would be funny to Ask them,What is the dif...\n",
            "...       ...                                                ...\n",
            "383896  ISTP   Yyyeeah. I know.  At this stage of my life I a...\n",
            "383897  ENTP   Zerosum, you mean I can just go into a gym and...\n",
            "383898  ENFP   ZOMG HERCULES!  God I loved that one. I didn't...\n",
            "383899  INFJ   zosio913   This resonates a lot with me. I wou...\n",
            "383900  INFJ   Zster - your advice was particularly helpful!!...\n",
            "\n",
            "[383900 rows x 2 columns]\n"
          ]
        }
      ]
    },
    {
      "cell_type": "markdown",
      "source": [
        "**WOOOOOOOOO LETS FUCKING GO**"
      ],
      "metadata": {
        "id": "rOEWzOiNgmJ1"
      }
    },
    {
      "cell_type": "code",
      "source": [
        "%pip install torch"
      ],
      "metadata": {
        "colab": {
          "base_uri": "https://localhost:8080/"
        },
        "id": "lPaYsFsvEVc6",
        "outputId": "1ba00c8a-901d-47de-dd6c-a87a50a19174"
      },
      "execution_count": 25,
      "outputs": [
        {
          "output_type": "stream",
          "name": "stdout",
          "text": [
            "Requirement already satisfied: torch in /usr/local/lib/python3.10/dist-packages (2.1.0+cu118)\n",
            "Requirement already satisfied: filelock in /usr/local/lib/python3.10/dist-packages (from torch) (3.13.1)\n",
            "Requirement already satisfied: typing-extensions in /usr/local/lib/python3.10/dist-packages (from torch) (4.5.0)\n",
            "Requirement already satisfied: sympy in /usr/local/lib/python3.10/dist-packages (from torch) (1.12)\n",
            "Requirement already satisfied: networkx in /usr/local/lib/python3.10/dist-packages (from torch) (3.2.1)\n",
            "Requirement already satisfied: jinja2 in /usr/local/lib/python3.10/dist-packages (from torch) (3.1.2)\n",
            "Requirement already satisfied: fsspec in /usr/local/lib/python3.10/dist-packages (from torch) (2023.6.0)\n",
            "Requirement already satisfied: triton==2.1.0 in /usr/local/lib/python3.10/dist-packages (from torch) (2.1.0)\n",
            "Requirement already satisfied: MarkupSafe>=2.0 in /usr/local/lib/python3.10/dist-packages (from jinja2->torch) (2.1.3)\n",
            "Requirement already satisfied: mpmath>=0.19 in /usr/local/lib/python3.10/dist-packages (from sympy->torch) (1.3.0)\n"
          ]
        }
      ]
    },
    {
      "cell_type": "code",
      "source": [
        "import torch"
      ],
      "metadata": {
        "id": "vqrpTdWqEeLN"
      },
      "execution_count": 59,
      "outputs": []
    },
    {
      "cell_type": "code",
      "source": [
        "import math\n",
        "trainset = df[:math.floor(df.shape[0]*0.90)]\n",
        "valset = df[math.floor(df.shape[0]*0.90):math.floor(df.shape[0]*0.95)]\n",
        "testset = df[math.floor(df.shape[0]*0.95):]\n",
        "trainset = trainset.astype(str)\n",
        "valset = valset.astype(str)\n",
        "testset = testset.astype(str)\n",
        "print(trainset)\n",
        "print(testset)"
      ],
      "metadata": {
        "colab": {
          "base_uri": "https://localhost:8080/"
        },
        "id": "B7I01UjBElJB",
        "outputId": "a797257c-17e3-49e2-bc4f-1ec4600ae62b"
      },
      "execution_count": 60,
      "outputs": [
        {
          "output_type": "stream",
          "name": "stdout",
          "text": [
            "         type                                               post\n",
            "1       INFP   'I used to play a bit of Skyrim (i found it ap...\n",
            "2       ENFP   'Where would you live? Canada/US, somewhere wi...\n",
            "3       INTP   'I'm an INTP who knows an ISFJ and an ESFJ. I ...\n",
            "4       INFJ   'Some people need more, others need less. But ...\n",
            "5       INTP   'It would be funny to Ask them,What is the dif...\n",
            "...       ...                                                ...\n",
            "345506  ISTP   I don't think there is something wrong with be...\n",
            "345507  ENTP   Owl City!   http://www.youtube.com/watch?v=psu...\n",
            "345508  ENFP                 Super stealth attack hugs!  *Hugs!*\n",
            "345509  INFJ   I don't really control my chameleonism... I'm ...\n",
            "345510  INFJ   Firstly, I really appreciate all of you who ha...\n",
            "\n",
            "[345510 rows x 2 columns]\n",
            "         type                                               post\n",
            "364706  INTP   I wonder if being an INTP makes you more prone...\n",
            "364707  ENFJ   woo! men waiting for a wife seem to be very ra...\n",
            "364708  ISFJ   what's to understand? he's a cheat, get away a...\n",
            "364709  INTP   it's 2014, people with no college education re...\n",
            "364710  INTP   There are three good things about Christmas: 1...\n",
            "...       ...                                                ...\n",
            "383896  ISTP   Yyyeeah. I know.  At this stage of my life I a...\n",
            "383897  ENTP   Zerosum, you mean I can just go into a gym and...\n",
            "383898  ENFP   ZOMG HERCULES!  God I loved that one. I didn't...\n",
            "383899  INFJ   zosio913   This resonates a lot with me. I wou...\n",
            "383900  INFJ   Zster - your advice was particularly helpful!!...\n",
            "\n",
            "[19195 rows x 2 columns]\n"
          ]
        }
      ]
    },
    {
      "cell_type": "code",
      "source": [
        "trtup = list(trainset.itertuples(index=False, name=None))\n",
        "vatup = list(valset.itertuples(index=False, name=None))\n",
        "tetup = list(testset.itertuples(index=False, name=None))\n",
        "#print(trtup)\n",
        "#print(tetup)"
      ],
      "metadata": {
        "id": "-oP_y8lhFx2H"
      },
      "execution_count": 61,
      "outputs": []
    },
    {
      "cell_type": "code",
      "source": [
        "train_iter = iter(trtup)\n",
        "val_iter = iter(vatup)\n",
        "test_iter = iter(tetup)"
      ],
      "metadata": {
        "id": "gclh63DXF8rO"
      },
      "execution_count": 62,
      "outputs": []
    },
    {
      "cell_type": "code",
      "source": [
        "from torchtext.data.utils import get_tokenizer\n",
        "from torchtext.vocab import build_vocab_from_iterator\n",
        "tok = get_tokenizer(\"basic_english\")\n",
        "def yield_tokens(dataIter):\n",
        "    for _, text in dataIter:\n",
        "        yield tok(text)\n",
        "vocab = build_vocab_from_iterator(yield_tokens(train_iter), specials=[\"<unk>\"])\n",
        "vocab.set_default_index(vocab[\"<unk>\"])"
      ],
      "metadata": {
        "id": "6J9t6ItxNXyQ"
      },
      "execution_count": 63,
      "outputs": []
    },
    {
      "cell_type": "code",
      "source": [
        "label_map = {'INTJ': 0, 'INTP': 1, 'ENTJ': 2, 'ENTP': 4,\n",
        "             'INFJ': 5, 'INFP': 6, 'ENFJ': 7, 'ENFP': 8,\n",
        "             'ISTJ': 9, 'ISFJ': 10,'ESTJ': 11,'ESFJ': 12,\n",
        "             'ISTP': 13,'ISFP': 14,'ESTP': 15,'ESFP': 16}\n",
        "text_pipe = lambda x: vocab(tok(x))\n",
        "label_pipe = lambda x: label_map[x]"
      ],
      "metadata": {
        "id": "nA1-nyDTSSLS"
      },
      "execution_count": 64,
      "outputs": []
    },
    {
      "cell_type": "code",
      "source": [
        "label_pipe('ESTP')"
      ],
      "metadata": {
        "colab": {
          "base_uri": "https://localhost:8080/"
        },
        "id": "CLLinQKZS1Be",
        "outputId": "1e22b015-bbf4-460f-fb6e-57e770df0386"
      },
      "execution_count": 65,
      "outputs": [
        {
          "output_type": "execute_result",
          "data": {
            "text/plain": [
              "15"
            ]
          },
          "metadata": {},
          "execution_count": 65
        }
      ]
    },
    {
      "cell_type": "code",
      "source": [
        "from torch.utils.data import DataLoader\n",
        "\n",
        "device = torch.device('cuda' if torch.cuda.is_available() else 'cpu')"
      ],
      "metadata": {
        "id": "sqFMSN8FUUh7"
      },
      "execution_count": 66,
      "outputs": []
    },
    {
      "cell_type": "code",
      "source": [
        "def collate_batch(batch):\n",
        "  labelList, textList, offsets = [], [], [0]\n",
        "  for _label, _text in batch:\n",
        "      labelList.append(label_pipe(_label))\n",
        "      processed_text = torch.tensor(text_pipe(_text), dtype=torch.int64)\n",
        "      textList.append(processed_text)\n",
        "      offsets.append(processed_text.size(0))\n",
        "  labelList = torch.tensor(labelList, dtype=torch.int64)\n",
        "  offsets = torch.tensor(offsets[:-1]).cumsum(dim=0)\n",
        "  textList = torch.cat(textList)\n",
        "  return labelList.to(device), textList.to(device), offsets.to(device)"
      ],
      "metadata": {
        "id": "KqJlrp2Qb_Ql"
      },
      "execution_count": 67,
      "outputs": []
    },
    {
      "cell_type": "code",
      "source": [
        "dlTrain = DataLoader(train_iter, batch_size=8, shuffle=False, collate_fn=collate_batch)\n",
        "dlVal = DataLoader(val_iter, batch_size=8, shuffle=False, collate_fn=collate_batch)\n",
        "dlTest = DataLoader(test_iter, batch_size=8, shuffle=False, collate_fn=collate_batch)"
      ],
      "metadata": {
        "id": "r8fJkrCLkOyh"
      },
      "execution_count": 69,
      "outputs": []
    },
    {
      "cell_type": "code",
      "source": [
        "from torch import nn\n",
        "\n",
        "class TextClassifier(nn.Module):\n",
        "  def __init__(self, voc_size, embedding, num_classes):\n",
        "    super(TextClassifier, self).__init__()\n",
        "    self.embedding = nn.EmbeddingBag(voc_size, embedding, sparse=False)\n",
        "    self.fc = nn.Linear(embedding, num_classes)\n",
        "    self.init_weights()\n",
        "\n",
        "  def init_weights(self):\n",
        "      initrange = 0.5\n",
        "      self.embedding.weight.data.uniform_(-initrange, initrange)\n",
        "      self.fc.weight.data.uniform_(-initrange, initrange)\n",
        "      self.fc.bias.data.zero_()\n",
        "  def forward(self, text, offsets):\n",
        "      embedded = self.embedding(text, offsets)\n",
        "      return self.fc(embedded)"
      ],
      "metadata": {
        "id": "PapM9k6elDn8"
      },
      "execution_count": 70,
      "outputs": []
    },
    {
      "cell_type": "code",
      "source": [
        "numClasses = 16\n",
        "vocab_size = len(vocab)\n",
        "emsize = 64\n",
        "m = TextClassifier(vocab_size, emsize, numClasses).to(device)"
      ],
      "metadata": {
        "id": "1R_epeM8mZav"
      },
      "execution_count": 71,
      "outputs": []
    },
    {
      "cell_type": "code",
      "source": [
        "import time\n",
        "\n",
        "def train(model, dl, criterion, optimizer, epoch):\n",
        "  model.train()\n",
        "  total_acc, total_count = 0,0\n",
        "  log_interval = 500\n",
        "  start_time = time.time()\n",
        "\n",
        "  for idx, (label, text, offsets) in enumerate(dl):\n",
        "      optimizer.zero_grad()\n",
        "      predLabel = model(text, offsets)\n",
        "      loss = criterion(predLabel, label)\n",
        "      loss.backward()\n",
        "      torch.nn.utils.clip_grad_norm(model.parameters(), 0.1)\n",
        "      optimizer.step()\n",
        "      total_acc += (predLabel.argmax(1) == label).sum().item()\n",
        "      total_count  += label.size(0)\n",
        "      if idx % log_interval == 0 and idx > 0:\n",
        "        elapsed = time.time() - start_time\n",
        "        print(\"Epoch {:3d}: {:5d}/{:5d} batches: accuracy {:8.3f}\".format(epoch, idx, len(dl), total_acc/total_count))\n",
        "        total_acc, total_count = 0, 0\n",
        "        start_time = time.time()\n",
        "def evaluate(model, dl, criterion):\n",
        "  model.eval()\n",
        "  total_acc, total_count = 0, 0\n",
        "\n",
        "  with torch.no_grad():\n",
        "    for idx, (label, text, offsets) in enumerate(dl):\n",
        "      predLabel = model(text, offsets)\n",
        "      loss = criterion(predLabel, label)\n",
        "      total_acc += (predLabel.argmax(1) == label).sum().item()\n",
        "      total_count += label.size(0)\n",
        "  return total_acc / total_count"
      ],
      "metadata": {
        "id": "sYlF1_LRmrr1"
      },
      "execution_count": 72,
      "outputs": []
    },
    {
      "cell_type": "code",
      "source": [
        "EPOCHS = 10\n",
        "LR = 5\n",
        "BATCH = 64\n",
        "\n",
        "criterion = torch.nn.CrossEntropyLoss()\n",
        "optimizer = torch.optim.SGD(m.parameters(), lr = LR)\n",
        "scheduler = torch.optim.lr_scheduler.StepLR(optimizer, 1.0, gamma = 0.1)\n",
        "totalAccu = None\n",
        "\n",
        "for epoch in range(1, EPOCHS + 1):\n",
        "  epoch_start = time.time()\n",
        "  train(m, dlTrain, criterion, optimizer, epoch)\n",
        "  accu_val = evaluate(m, dlVal, criterion)\n",
        "  if total_accu is not None and total_accu > accu_val:\n",
        "    scheduler.step()\n",
        "  else:\n",
        "    total_accu = accu_val\n",
        "  print('-'*59)\n",
        "  print(\"End of Epoch {:3d}: Time: {:5.2f}, Valid Accuracy: {:8.3f}\".format(epoch, time.time() - epoch_start, accu_val))\n",
        "  print('-'*59)"
      ],
      "metadata": {
        "colab": {
          "base_uri": "https://localhost:8080/",
          "height": 390
        },
        "id": "Nq1fqW2eo_MH",
        "outputId": "58b00a34-d801-4840-aa1d-6cbe0646c20a"
      },
      "execution_count": 74,
      "outputs": [
        {
          "output_type": "error",
          "ename": "TypeError",
          "evalue": "ignored",
          "traceback": [
            "\u001b[0;31m---------------------------------------------------------------------------\u001b[0m",
            "\u001b[0;31mTypeError\u001b[0m                                 Traceback (most recent call last)",
            "\u001b[0;32m<ipython-input-74-615d0282b5b7>\u001b[0m in \u001b[0;36m<cell line: 10>\u001b[0;34m()\u001b[0m\n\u001b[1;32m     10\u001b[0m \u001b[0;32mfor\u001b[0m \u001b[0mepoch\u001b[0m \u001b[0;32min\u001b[0m \u001b[0mrange\u001b[0m\u001b[0;34m(\u001b[0m\u001b[0;36m1\u001b[0m\u001b[0;34m,\u001b[0m \u001b[0mEPOCHS\u001b[0m \u001b[0;34m+\u001b[0m \u001b[0;36m1\u001b[0m\u001b[0;34m)\u001b[0m\u001b[0;34m:\u001b[0m\u001b[0;34m\u001b[0m\u001b[0;34m\u001b[0m\u001b[0m\n\u001b[1;32m     11\u001b[0m   \u001b[0mepoch_start\u001b[0m \u001b[0;34m=\u001b[0m \u001b[0mtime\u001b[0m\u001b[0;34m.\u001b[0m\u001b[0mtime\u001b[0m\u001b[0;34m(\u001b[0m\u001b[0;34m)\u001b[0m\u001b[0;34m\u001b[0m\u001b[0;34m\u001b[0m\u001b[0m\n\u001b[0;32m---> 12\u001b[0;31m   \u001b[0mtrain\u001b[0m\u001b[0;34m(\u001b[0m\u001b[0mm\u001b[0m\u001b[0;34m,\u001b[0m \u001b[0mdlTrain\u001b[0m\u001b[0;34m,\u001b[0m \u001b[0mcriterion\u001b[0m\u001b[0;34m,\u001b[0m \u001b[0moptimizer\u001b[0m\u001b[0;34m,\u001b[0m \u001b[0mepoch\u001b[0m\u001b[0;34m)\u001b[0m\u001b[0;34m\u001b[0m\u001b[0;34m\u001b[0m\u001b[0m\n\u001b[0m\u001b[1;32m     13\u001b[0m   \u001b[0maccu_val\u001b[0m \u001b[0;34m=\u001b[0m \u001b[0mevaluate\u001b[0m\u001b[0;34m(\u001b[0m\u001b[0mm\u001b[0m\u001b[0;34m,\u001b[0m \u001b[0mdlVal\u001b[0m\u001b[0;34m,\u001b[0m \u001b[0mcriterion\u001b[0m\u001b[0;34m)\u001b[0m\u001b[0;34m\u001b[0m\u001b[0;34m\u001b[0m\u001b[0m\n\u001b[1;32m     14\u001b[0m   \u001b[0;32mif\u001b[0m \u001b[0mtotal_accu\u001b[0m \u001b[0;32mis\u001b[0m \u001b[0;32mnot\u001b[0m \u001b[0;32mNone\u001b[0m \u001b[0;32mand\u001b[0m \u001b[0mtotal_accu\u001b[0m \u001b[0;34m>\u001b[0m \u001b[0maccu_val\u001b[0m\u001b[0;34m:\u001b[0m\u001b[0;34m\u001b[0m\u001b[0;34m\u001b[0m\u001b[0m\n",
            "\u001b[0;32m<ipython-input-72-b16dab98aa30>\u001b[0m in \u001b[0;36mtrain\u001b[0;34m(model, dl, criterion, optimizer, epoch)\u001b[0m\n\u001b[1;32m      7\u001b[0m   \u001b[0mstart_time\u001b[0m \u001b[0;34m=\u001b[0m \u001b[0mtime\u001b[0m\u001b[0;34m.\u001b[0m\u001b[0mtime\u001b[0m\u001b[0;34m(\u001b[0m\u001b[0;34m)\u001b[0m\u001b[0;34m\u001b[0m\u001b[0;34m\u001b[0m\u001b[0m\n\u001b[1;32m      8\u001b[0m \u001b[0;34m\u001b[0m\u001b[0m\n\u001b[0;32m----> 9\u001b[0;31m   \u001b[0;32mfor\u001b[0m \u001b[0midx\u001b[0m\u001b[0;34m,\u001b[0m \u001b[0;34m(\u001b[0m\u001b[0mlabel\u001b[0m\u001b[0;34m,\u001b[0m \u001b[0mtext\u001b[0m\u001b[0;34m,\u001b[0m \u001b[0moffsets\u001b[0m\u001b[0;34m)\u001b[0m \u001b[0;32min\u001b[0m \u001b[0menumerate\u001b[0m\u001b[0;34m(\u001b[0m\u001b[0mdl\u001b[0m\u001b[0;34m)\u001b[0m\u001b[0;34m:\u001b[0m\u001b[0;34m\u001b[0m\u001b[0;34m\u001b[0m\u001b[0m\n\u001b[0m\u001b[1;32m     10\u001b[0m       \u001b[0moptimizer\u001b[0m\u001b[0;34m.\u001b[0m\u001b[0mzero_grad\u001b[0m\u001b[0;34m(\u001b[0m\u001b[0;34m)\u001b[0m\u001b[0;34m\u001b[0m\u001b[0;34m\u001b[0m\u001b[0m\n\u001b[1;32m     11\u001b[0m       \u001b[0mpredLabel\u001b[0m \u001b[0;34m=\u001b[0m \u001b[0mmodel\u001b[0m\u001b[0;34m(\u001b[0m\u001b[0mtext\u001b[0m\u001b[0;34m,\u001b[0m \u001b[0moffsets\u001b[0m\u001b[0;34m)\u001b[0m\u001b[0;34m\u001b[0m\u001b[0;34m\u001b[0m\u001b[0m\n",
            "\u001b[0;32m/usr/local/lib/python3.10/dist-packages/torch/utils/data/dataloader.py\u001b[0m in \u001b[0;36m__next__\u001b[0;34m(self)\u001b[0m\n\u001b[1;32m    628\u001b[0m                 \u001b[0;31m# TODO(https://github.com/pytorch/pytorch/issues/76750)\u001b[0m\u001b[0;34m\u001b[0m\u001b[0;34m\u001b[0m\u001b[0m\n\u001b[1;32m    629\u001b[0m                 \u001b[0mself\u001b[0m\u001b[0;34m.\u001b[0m\u001b[0m_reset\u001b[0m\u001b[0;34m(\u001b[0m\u001b[0;34m)\u001b[0m  \u001b[0;31m# type: ignore[call-arg]\u001b[0m\u001b[0;34m\u001b[0m\u001b[0;34m\u001b[0m\u001b[0m\n\u001b[0;32m--> 630\u001b[0;31m             \u001b[0mdata\u001b[0m \u001b[0;34m=\u001b[0m \u001b[0mself\u001b[0m\u001b[0;34m.\u001b[0m\u001b[0m_next_data\u001b[0m\u001b[0;34m(\u001b[0m\u001b[0;34m)\u001b[0m\u001b[0;34m\u001b[0m\u001b[0;34m\u001b[0m\u001b[0m\n\u001b[0m\u001b[1;32m    631\u001b[0m             \u001b[0mself\u001b[0m\u001b[0;34m.\u001b[0m\u001b[0m_num_yielded\u001b[0m \u001b[0;34m+=\u001b[0m \u001b[0;36m1\u001b[0m\u001b[0;34m\u001b[0m\u001b[0;34m\u001b[0m\u001b[0m\n\u001b[1;32m    632\u001b[0m             \u001b[0;32mif\u001b[0m \u001b[0mself\u001b[0m\u001b[0;34m.\u001b[0m\u001b[0m_dataset_kind\u001b[0m \u001b[0;34m==\u001b[0m \u001b[0m_DatasetKind\u001b[0m\u001b[0;34m.\u001b[0m\u001b[0mIterable\u001b[0m \u001b[0;32mand\u001b[0m\u001b[0;31m \u001b[0m\u001b[0;31m\\\u001b[0m\u001b[0;34m\u001b[0m\u001b[0;34m\u001b[0m\u001b[0m\n",
            "\u001b[0;32m/usr/local/lib/python3.10/dist-packages/torch/utils/data/dataloader.py\u001b[0m in \u001b[0;36m_next_data\u001b[0;34m(self)\u001b[0m\n\u001b[1;32m    671\u001b[0m \u001b[0;34m\u001b[0m\u001b[0m\n\u001b[1;32m    672\u001b[0m     \u001b[0;32mdef\u001b[0m \u001b[0m_next_data\u001b[0m\u001b[0;34m(\u001b[0m\u001b[0mself\u001b[0m\u001b[0;34m)\u001b[0m\u001b[0;34m:\u001b[0m\u001b[0;34m\u001b[0m\u001b[0;34m\u001b[0m\u001b[0m\n\u001b[0;32m--> 673\u001b[0;31m         \u001b[0mindex\u001b[0m \u001b[0;34m=\u001b[0m \u001b[0mself\u001b[0m\u001b[0;34m.\u001b[0m\u001b[0m_next_index\u001b[0m\u001b[0;34m(\u001b[0m\u001b[0;34m)\u001b[0m  \u001b[0;31m# may raise StopIteration\u001b[0m\u001b[0;34m\u001b[0m\u001b[0;34m\u001b[0m\u001b[0m\n\u001b[0m\u001b[1;32m    674\u001b[0m         \u001b[0mdata\u001b[0m \u001b[0;34m=\u001b[0m \u001b[0mself\u001b[0m\u001b[0;34m.\u001b[0m\u001b[0m_dataset_fetcher\u001b[0m\u001b[0;34m.\u001b[0m\u001b[0mfetch\u001b[0m\u001b[0;34m(\u001b[0m\u001b[0mindex\u001b[0m\u001b[0;34m)\u001b[0m  \u001b[0;31m# may raise StopIteration\u001b[0m\u001b[0;34m\u001b[0m\u001b[0;34m\u001b[0m\u001b[0m\n\u001b[1;32m    675\u001b[0m         \u001b[0;32mif\u001b[0m \u001b[0mself\u001b[0m\u001b[0;34m.\u001b[0m\u001b[0m_pin_memory\u001b[0m\u001b[0;34m:\u001b[0m\u001b[0;34m\u001b[0m\u001b[0;34m\u001b[0m\u001b[0m\n",
            "\u001b[0;32m/usr/local/lib/python3.10/dist-packages/torch/utils/data/dataloader.py\u001b[0m in \u001b[0;36m_next_index\u001b[0;34m(self)\u001b[0m\n\u001b[1;32m    618\u001b[0m \u001b[0;34m\u001b[0m\u001b[0m\n\u001b[1;32m    619\u001b[0m     \u001b[0;32mdef\u001b[0m \u001b[0m_next_index\u001b[0m\u001b[0;34m(\u001b[0m\u001b[0mself\u001b[0m\u001b[0;34m)\u001b[0m\u001b[0;34m:\u001b[0m\u001b[0;34m\u001b[0m\u001b[0;34m\u001b[0m\u001b[0m\n\u001b[0;32m--> 620\u001b[0;31m         \u001b[0;32mreturn\u001b[0m \u001b[0mnext\u001b[0m\u001b[0;34m(\u001b[0m\u001b[0mself\u001b[0m\u001b[0;34m.\u001b[0m\u001b[0m_sampler_iter\u001b[0m\u001b[0;34m)\u001b[0m  \u001b[0;31m# may raise StopIteration\u001b[0m\u001b[0;34m\u001b[0m\u001b[0;34m\u001b[0m\u001b[0m\n\u001b[0m\u001b[1;32m    621\u001b[0m \u001b[0;34m\u001b[0m\u001b[0m\n\u001b[1;32m    622\u001b[0m     \u001b[0;32mdef\u001b[0m \u001b[0m_next_data\u001b[0m\u001b[0;34m(\u001b[0m\u001b[0mself\u001b[0m\u001b[0;34m)\u001b[0m\u001b[0;34m:\u001b[0m\u001b[0;34m\u001b[0m\u001b[0;34m\u001b[0m\u001b[0m\n",
            "\u001b[0;32m/usr/local/lib/python3.10/dist-packages/torch/utils/data/sampler.py\u001b[0m in \u001b[0;36m__iter__\u001b[0;34m(self)\u001b[0m\n\u001b[1;32m    281\u001b[0m             \u001b[0mbatch\u001b[0m \u001b[0;34m=\u001b[0m \u001b[0;34m[\u001b[0m\u001b[0;36m0\u001b[0m\u001b[0;34m]\u001b[0m \u001b[0;34m*\u001b[0m \u001b[0mself\u001b[0m\u001b[0;34m.\u001b[0m\u001b[0mbatch_size\u001b[0m\u001b[0;34m\u001b[0m\u001b[0;34m\u001b[0m\u001b[0m\n\u001b[1;32m    282\u001b[0m             \u001b[0midx_in_batch\u001b[0m \u001b[0;34m=\u001b[0m \u001b[0;36m0\u001b[0m\u001b[0;34m\u001b[0m\u001b[0;34m\u001b[0m\u001b[0m\n\u001b[0;32m--> 283\u001b[0;31m             \u001b[0;32mfor\u001b[0m \u001b[0midx\u001b[0m \u001b[0;32min\u001b[0m \u001b[0mself\u001b[0m\u001b[0;34m.\u001b[0m\u001b[0msampler\u001b[0m\u001b[0;34m:\u001b[0m\u001b[0;34m\u001b[0m\u001b[0;34m\u001b[0m\u001b[0m\n\u001b[0m\u001b[1;32m    284\u001b[0m                 \u001b[0mbatch\u001b[0m\u001b[0;34m[\u001b[0m\u001b[0midx_in_batch\u001b[0m\u001b[0;34m]\u001b[0m \u001b[0;34m=\u001b[0m \u001b[0midx\u001b[0m\u001b[0;34m\u001b[0m\u001b[0;34m\u001b[0m\u001b[0m\n\u001b[1;32m    285\u001b[0m                 \u001b[0midx_in_batch\u001b[0m \u001b[0;34m+=\u001b[0m \u001b[0;36m1\u001b[0m\u001b[0;34m\u001b[0m\u001b[0;34m\u001b[0m\u001b[0m\n",
            "\u001b[0;32m/usr/local/lib/python3.10/dist-packages/torch/utils/data/sampler.py\u001b[0m in \u001b[0;36m__iter__\u001b[0;34m(self)\u001b[0m\n\u001b[1;32m    108\u001b[0m \u001b[0;34m\u001b[0m\u001b[0m\n\u001b[1;32m    109\u001b[0m     \u001b[0;32mdef\u001b[0m \u001b[0m__iter__\u001b[0m\u001b[0;34m(\u001b[0m\u001b[0mself\u001b[0m\u001b[0;34m)\u001b[0m \u001b[0;34m->\u001b[0m \u001b[0mIterator\u001b[0m\u001b[0;34m[\u001b[0m\u001b[0mint\u001b[0m\u001b[0;34m]\u001b[0m\u001b[0;34m:\u001b[0m\u001b[0;34m\u001b[0m\u001b[0;34m\u001b[0m\u001b[0m\n\u001b[0;32m--> 110\u001b[0;31m         \u001b[0;32mreturn\u001b[0m \u001b[0miter\u001b[0m\u001b[0;34m(\u001b[0m\u001b[0mrange\u001b[0m\u001b[0;34m(\u001b[0m\u001b[0mlen\u001b[0m\u001b[0;34m(\u001b[0m\u001b[0mself\u001b[0m\u001b[0;34m.\u001b[0m\u001b[0mdata_source\u001b[0m\u001b[0;34m)\u001b[0m\u001b[0;34m)\u001b[0m\u001b[0;34m)\u001b[0m\u001b[0;34m\u001b[0m\u001b[0;34m\u001b[0m\u001b[0m\n\u001b[0m\u001b[1;32m    111\u001b[0m \u001b[0;34m\u001b[0m\u001b[0m\n\u001b[1;32m    112\u001b[0m     \u001b[0;32mdef\u001b[0m \u001b[0m__len__\u001b[0m\u001b[0;34m(\u001b[0m\u001b[0mself\u001b[0m\u001b[0;34m)\u001b[0m \u001b[0;34m->\u001b[0m \u001b[0mint\u001b[0m\u001b[0;34m:\u001b[0m\u001b[0;34m\u001b[0m\u001b[0;34m\u001b[0m\u001b[0m\n",
            "\u001b[0;31mTypeError\u001b[0m: object of type 'list_iterator' has no len()"
          ]
        }
      ]
    }
  ]
}