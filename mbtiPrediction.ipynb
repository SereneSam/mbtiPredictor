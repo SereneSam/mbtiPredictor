{
 "cells": [
  {
   "cell_type": "code",
   "execution_count": 3,
   "metadata": {},
   "outputs": [],
   "source": [
    "#pip install openpyxl\n",
    "# pip install scikit-learn"
   ]
  },
  {
   "cell_type": "code",
   "execution_count": 4,
   "metadata": {},
   "outputs": [],
   "source": [
    "import pandas as pd"
   ]
  },
  {
   "cell_type": "code",
   "execution_count": 12,
   "metadata": {},
   "outputs": [],
   "source": [
    "mbti_df = pd.read_csv(r'/Users/shreyasubramanya/mbtiPredictor/MBTI500.csv')\n"
   ]
  },
  {
   "cell_type": "code",
   "execution_count": 25,
   "metadata": {},
   "outputs": [
    {
     "name": "stdout",
     "output_type": "stream",
     "text": [
      "Removed MBTI types from /Users/shreyasubramanya/mbtiPredictor/MBTI500.csv and saved the result in output.csv\n"
     ]
    }
   ],
   "source": [
    "import csv\n",
    "\n",
    "# List of MBTI types\n",
    "mbti_types = [\"istj\", \"isfj\", \"infj\", \"intj\", \"istp\", \"isfp\", \"infp\", \"intp\",\n",
    "             \"estj\", \"esfj\", \"enfj\", \"entj\", \"estp\", \"esfp\", \"enfp\", \"entp\"]\n",
    "\n",
    "\n",
    "# Input CSV file path\n",
    "input_file = '/Users/shreyasubramanya/mbtiPredictor/MBTI500.csv'\n",
    "\n",
    "# Output CSV file path\n",
    "output_file = 'output.csv'\n",
    "\n",
    "# Function to remove MBTI types from a text\n",
    "def remove_mbti_types(text):\n",
    "    for mbti_type in mbti_types:\n",
    "        text = text.replace(mbti_type, \"\")\n",
    "    return \" \".join(text.split())  # Remove extra spaces\n",
    "\n",
    "# Read the input CSV file and process it\n",
    "with open(input_file, 'r', newline='') as csvfile_in, open(output_file, 'w', newline='') as csvfile_out:\n",
    "    reader = csv.reader(csvfile_in)\n",
    "    writer = csv.writer(csvfile_out)\n",
    "\n",
    "    for row in reader:\n",
    "        if len(row) > 0:  # Ensure the row is not empty\n",
    "            first_part = row[0]\n",
    "            first_part_without_mbti = remove_mbti_types(first_part)\n",
    "            row[0] = first_part_without_mbti\n",
    "            writer.writerow(row)\n",
    "\n",
    "print(f'Removed MBTI types from {input_file} and saved the result in {output_file}')\n",
    "\n"
   ]
  },
  {
   "cell_type": "code",
   "execution_count": null,
   "metadata": {},
   "outputs": [],
   "source": []
  },
  {
   "cell_type": "code",
   "execution_count": 11,
   "metadata": {},
   "outputs": [
    {
     "data": {
      "text/html": [
       "<div>\n",
       "<style scoped>\n",
       "    .dataframe tbody tr th:only-of-type {\n",
       "        vertical-align: middle;\n",
       "    }\n",
       "\n",
       "    .dataframe tbody tr th {\n",
       "        vertical-align: top;\n",
       "    }\n",
       "\n",
       "    .dataframe thead th {\n",
       "        text-align: right;\n",
       "    }\n",
       "</style>\n",
       "<table border=\"1\" class=\"dataframe\">\n",
       "  <thead>\n",
       "    <tr style=\"text-align: right;\">\n",
       "      <th></th>\n",
       "      <th>posts</th>\n",
       "      <th>type</th>\n",
       "    </tr>\n",
       "  </thead>\n",
       "  <tbody>\n",
       "    <tr>\n",
       "      <th>0</th>\n",
       "      <td>know intj tool use interaction people excuse a...</td>\n",
       "      <td>INTJ</td>\n",
       "    </tr>\n",
       "    <tr>\n",
       "      <th>1</th>\n",
       "      <td>rap music ehh opp yeah know valid well know fa...</td>\n",
       "      <td>INTJ</td>\n",
       "    </tr>\n",
       "    <tr>\n",
       "      <th>2</th>\n",
       "      <td>preferably p hd low except wew lad video p min...</td>\n",
       "      <td>INTJ</td>\n",
       "    </tr>\n",
       "    <tr>\n",
       "      <th>3</th>\n",
       "      <td>drink like wish could drink red wine give head...</td>\n",
       "      <td>INTJ</td>\n",
       "    </tr>\n",
       "    <tr>\n",
       "      <th>4</th>\n",
       "      <td>space program ah bad deal meing freelance max ...</td>\n",
       "      <td>INTJ</td>\n",
       "    </tr>\n",
       "  </tbody>\n",
       "</table>\n",
       "</div>"
      ],
      "text/plain": [
       "                                               posts  type\n",
       "0  know intj tool use interaction people excuse a...  INTJ\n",
       "1  rap music ehh opp yeah know valid well know fa...  INTJ\n",
       "2  preferably p hd low except wew lad video p min...  INTJ\n",
       "3  drink like wish could drink red wine give head...  INTJ\n",
       "4  space program ah bad deal meing freelance max ...  INTJ"
      ]
     },
     "execution_count": 11,
     "metadata": {},
     "output_type": "execute_result"
    }
   ],
   "source": [
    "mbti_df.head()"
   ]
  }
 ],
 "metadata": {
  "kernelspec": {
   "display_name": "Python 3",
   "language": "python",
   "name": "python3"
  },
  "language_info": {
   "codemirror_mode": {
    "name": "ipython",
    "version": 3
   },
   "file_extension": ".py",
   "mimetype": "text/x-python",
   "name": "python",
   "nbconvert_exporter": "python",
   "pygments_lexer": "ipython3",
   "version": "3.10.4"
  }
 },
 "nbformat": 4,
 "nbformat_minor": 2
}
